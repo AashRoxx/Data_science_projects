{
  "nbformat": 4,
  "nbformat_minor": 0,
  "metadata": {
    "colab": {
      "provenance": [],
      "include_colab_link": true
    },
    "kernelspec": {
      "name": "python3",
      "display_name": "Python 3"
    }
  },
  "cells": [
    {
      "cell_type": "markdown",
      "metadata": {
        "id": "view-in-github",
        "colab_type": "text"
      },
      "source": [
        "<a href=\"https://colab.research.google.com/github/AashRoxx/Data_science_projects/blob/main/HDFC_dataset/hierarchical_agglomerative_clustering.ipynb\" target=\"_parent\"><img src=\"https://colab.research.google.com/assets/colab-badge.svg\" alt=\"Open In Colab\"/></a>"
      ]
    },
    {
      "cell_type": "markdown",
      "metadata": {
        "id": "JKkbeQi2Mzug"
      },
      "source": [
        "# Hierarchical Agglomerative Clustering"
      ]
    },
    {
      "cell_type": "markdown",
      "metadata": {
        "id": "TaQI437hM1Ho"
      },
      "source": [
        "## Importing the libraries"
      ]
    },
    {
      "cell_type": "code",
      "metadata": {
        "id": "2UW48DgcM4YS"
      },
      "source": [
        "import numpy as np\n",
        "import matplotlib.pyplot as plt\n",
        "import pandas as pd"
      ],
      "execution_count": null,
      "outputs": []
    },
    {
      "cell_type": "markdown",
      "metadata": {
        "id": "gFeTEtDxM7K4"
      },
      "source": [
        "## Importing the dataset"
      ]
    },
    {
      "cell_type": "code",
      "metadata": {
        "id": "4fS2J3HGM99q",
        "colab": {
          "base_uri": "https://localhost:8080/",
          "height": 213
        },
        "outputId": "425b60ed-0ac3-41b2-b3a8-5961646a5737"
      },
      "source": [
        "dataset = pd.read_csv('HDFC.csv')\n",
        "dataset.head()"
      ],
      "execution_count": null,
      "outputs": [
        {
          "output_type": "execute_result",
          "data": {
            "text/plain": [
              "         Date Symbol Series  Prev Close   Open    High    Low   Last   Close  \\\n",
              "0  2000-01-03   HDFC     EQ      271.75  293.5  293.50  293.5  293.5  293.50   \n",
              "1  2000-01-04   HDFC     EQ      293.50  317.0  317.00  297.0  304.0  304.05   \n",
              "2  2000-01-05   HDFC     EQ      304.05  290.0  303.90  285.0  295.0  292.80   \n",
              "3  2000-01-06   HDFC     EQ      292.80  301.0  314.00  295.0  296.0  296.45   \n",
              "4  2000-01-07   HDFC     EQ      296.45  290.0  296.35  281.0  287.1  286.55   \n",
              "\n",
              "     VWAP  Volume      Turnover  Trades  Deliverable Volume  %Deliverble  \n",
              "0  293.50   22744  6.675364e+11     NaN                 NaN          NaN  \n",
              "1  303.62  255251  7.749972e+12     NaN                 NaN          NaN  \n",
              "2  294.53  269087  7.925368e+12     NaN                 NaN          NaN  \n",
              "3  300.14  305916  9.181669e+12     NaN                 NaN          NaN  \n",
              "4  288.80  197039  5.690480e+12     NaN                 NaN          NaN  "
            ],
            "text/html": [
              "\n",
              "  <div id=\"df-ec0657d9-a429-4fe9-90bf-3aa09b668aae\">\n",
              "    <div class=\"colab-df-container\">\n",
              "      <div>\n",
              "<style scoped>\n",
              "    .dataframe tbody tr th:only-of-type {\n",
              "        vertical-align: middle;\n",
              "    }\n",
              "\n",
              "    .dataframe tbody tr th {\n",
              "        vertical-align: top;\n",
              "    }\n",
              "\n",
              "    .dataframe thead th {\n",
              "        text-align: right;\n",
              "    }\n",
              "</style>\n",
              "<table border=\"1\" class=\"dataframe\">\n",
              "  <thead>\n",
              "    <tr style=\"text-align: right;\">\n",
              "      <th></th>\n",
              "      <th>Date</th>\n",
              "      <th>Symbol</th>\n",
              "      <th>Series</th>\n",
              "      <th>Prev Close</th>\n",
              "      <th>Open</th>\n",
              "      <th>High</th>\n",
              "      <th>Low</th>\n",
              "      <th>Last</th>\n",
              "      <th>Close</th>\n",
              "      <th>VWAP</th>\n",
              "      <th>Volume</th>\n",
              "      <th>Turnover</th>\n",
              "      <th>Trades</th>\n",
              "      <th>Deliverable Volume</th>\n",
              "      <th>%Deliverble</th>\n",
              "    </tr>\n",
              "  </thead>\n",
              "  <tbody>\n",
              "    <tr>\n",
              "      <th>0</th>\n",
              "      <td>2000-01-03</td>\n",
              "      <td>HDFC</td>\n",
              "      <td>EQ</td>\n",
              "      <td>271.75</td>\n",
              "      <td>293.5</td>\n",
              "      <td>293.50</td>\n",
              "      <td>293.5</td>\n",
              "      <td>293.5</td>\n",
              "      <td>293.50</td>\n",
              "      <td>293.50</td>\n",
              "      <td>22744</td>\n",
              "      <td>6.675364e+11</td>\n",
              "      <td>NaN</td>\n",
              "      <td>NaN</td>\n",
              "      <td>NaN</td>\n",
              "    </tr>\n",
              "    <tr>\n",
              "      <th>1</th>\n",
              "      <td>2000-01-04</td>\n",
              "      <td>HDFC</td>\n",
              "      <td>EQ</td>\n",
              "      <td>293.50</td>\n",
              "      <td>317.0</td>\n",
              "      <td>317.00</td>\n",
              "      <td>297.0</td>\n",
              "      <td>304.0</td>\n",
              "      <td>304.05</td>\n",
              "      <td>303.62</td>\n",
              "      <td>255251</td>\n",
              "      <td>7.749972e+12</td>\n",
              "      <td>NaN</td>\n",
              "      <td>NaN</td>\n",
              "      <td>NaN</td>\n",
              "    </tr>\n",
              "    <tr>\n",
              "      <th>2</th>\n",
              "      <td>2000-01-05</td>\n",
              "      <td>HDFC</td>\n",
              "      <td>EQ</td>\n",
              "      <td>304.05</td>\n",
              "      <td>290.0</td>\n",
              "      <td>303.90</td>\n",
              "      <td>285.0</td>\n",
              "      <td>295.0</td>\n",
              "      <td>292.80</td>\n",
              "      <td>294.53</td>\n",
              "      <td>269087</td>\n",
              "      <td>7.925368e+12</td>\n",
              "      <td>NaN</td>\n",
              "      <td>NaN</td>\n",
              "      <td>NaN</td>\n",
              "    </tr>\n",
              "    <tr>\n",
              "      <th>3</th>\n",
              "      <td>2000-01-06</td>\n",
              "      <td>HDFC</td>\n",
              "      <td>EQ</td>\n",
              "      <td>292.80</td>\n",
              "      <td>301.0</td>\n",
              "      <td>314.00</td>\n",
              "      <td>295.0</td>\n",
              "      <td>296.0</td>\n",
              "      <td>296.45</td>\n",
              "      <td>300.14</td>\n",
              "      <td>305916</td>\n",
              "      <td>9.181669e+12</td>\n",
              "      <td>NaN</td>\n",
              "      <td>NaN</td>\n",
              "      <td>NaN</td>\n",
              "    </tr>\n",
              "    <tr>\n",
              "      <th>4</th>\n",
              "      <td>2000-01-07</td>\n",
              "      <td>HDFC</td>\n",
              "      <td>EQ</td>\n",
              "      <td>296.45</td>\n",
              "      <td>290.0</td>\n",
              "      <td>296.35</td>\n",
              "      <td>281.0</td>\n",
              "      <td>287.1</td>\n",
              "      <td>286.55</td>\n",
              "      <td>288.80</td>\n",
              "      <td>197039</td>\n",
              "      <td>5.690480e+12</td>\n",
              "      <td>NaN</td>\n",
              "      <td>NaN</td>\n",
              "      <td>NaN</td>\n",
              "    </tr>\n",
              "  </tbody>\n",
              "</table>\n",
              "</div>\n",
              "      <button class=\"colab-df-convert\" onclick=\"convertToInteractive('df-ec0657d9-a429-4fe9-90bf-3aa09b668aae')\"\n",
              "              title=\"Convert this dataframe to an interactive table.\"\n",
              "              style=\"display:none;\">\n",
              "        \n",
              "  <svg xmlns=\"http://www.w3.org/2000/svg\" height=\"24px\"viewBox=\"0 0 24 24\"\n",
              "       width=\"24px\">\n",
              "    <path d=\"M0 0h24v24H0V0z\" fill=\"none\"/>\n",
              "    <path d=\"M18.56 5.44l.94 2.06.94-2.06 2.06-.94-2.06-.94-.94-2.06-.94 2.06-2.06.94zm-11 1L8.5 8.5l.94-2.06 2.06-.94-2.06-.94L8.5 2.5l-.94 2.06-2.06.94zm10 10l.94 2.06.94-2.06 2.06-.94-2.06-.94-.94-2.06-.94 2.06-2.06.94z\"/><path d=\"M17.41 7.96l-1.37-1.37c-.4-.4-.92-.59-1.43-.59-.52 0-1.04.2-1.43.59L10.3 9.45l-7.72 7.72c-.78.78-.78 2.05 0 2.83L4 21.41c.39.39.9.59 1.41.59.51 0 1.02-.2 1.41-.59l7.78-7.78 2.81-2.81c.8-.78.8-2.07 0-2.86zM5.41 20L4 18.59l7.72-7.72 1.47 1.35L5.41 20z\"/>\n",
              "  </svg>\n",
              "      </button>\n",
              "      \n",
              "  <style>\n",
              "    .colab-df-container {\n",
              "      display:flex;\n",
              "      flex-wrap:wrap;\n",
              "      gap: 12px;\n",
              "    }\n",
              "\n",
              "    .colab-df-convert {\n",
              "      background-color: #E8F0FE;\n",
              "      border: none;\n",
              "      border-radius: 50%;\n",
              "      cursor: pointer;\n",
              "      display: none;\n",
              "      fill: #1967D2;\n",
              "      height: 32px;\n",
              "      padding: 0 0 0 0;\n",
              "      width: 32px;\n",
              "    }\n",
              "\n",
              "    .colab-df-convert:hover {\n",
              "      background-color: #E2EBFA;\n",
              "      box-shadow: 0px 1px 2px rgba(60, 64, 67, 0.3), 0px 1px 3px 1px rgba(60, 64, 67, 0.15);\n",
              "      fill: #174EA6;\n",
              "    }\n",
              "\n",
              "    [theme=dark] .colab-df-convert {\n",
              "      background-color: #3B4455;\n",
              "      fill: #D2E3FC;\n",
              "    }\n",
              "\n",
              "    [theme=dark] .colab-df-convert:hover {\n",
              "      background-color: #434B5C;\n",
              "      box-shadow: 0px 1px 3px 1px rgba(0, 0, 0, 0.15);\n",
              "      filter: drop-shadow(0px 1px 2px rgba(0, 0, 0, 0.3));\n",
              "      fill: #FFFFFF;\n",
              "    }\n",
              "  </style>\n",
              "\n",
              "      <script>\n",
              "        const buttonEl =\n",
              "          document.querySelector('#df-ec0657d9-a429-4fe9-90bf-3aa09b668aae button.colab-df-convert');\n",
              "        buttonEl.style.display =\n",
              "          google.colab.kernel.accessAllowed ? 'block' : 'none';\n",
              "\n",
              "        async function convertToInteractive(key) {\n",
              "          const element = document.querySelector('#df-ec0657d9-a429-4fe9-90bf-3aa09b668aae');\n",
              "          const dataTable =\n",
              "            await google.colab.kernel.invokeFunction('convertToInteractive',\n",
              "                                                     [key], {});\n",
              "          if (!dataTable) return;\n",
              "\n",
              "          const docLinkHtml = 'Like what you see? Visit the ' +\n",
              "            '<a target=\"_blank\" href=https://colab.research.google.com/notebooks/data_table.ipynb>data table notebook</a>'\n",
              "            + ' to learn more about interactive tables.';\n",
              "          element.innerHTML = '';\n",
              "          dataTable['output_type'] = 'display_data';\n",
              "          await google.colab.output.renderOutput(dataTable, element);\n",
              "          const docLink = document.createElement('div');\n",
              "          docLink.innerHTML = docLinkHtml;\n",
              "          element.appendChild(docLink);\n",
              "        }\n",
              "      </script>\n",
              "    </div>\n",
              "  </div>\n",
              "  "
            ]
          },
          "metadata": {},
          "execution_count": 3
        }
      ]
    },
    {
      "cell_type": "markdown",
      "source": [
        "Finding relation between previously closed and closed\n",
        "\n",
        "We can ignore Trades,Deliverable volume, %Deliverable as they are all nan values. We also ignore Symbol (as it is same for the entire dataset and series)and Symbol."
      ],
      "metadata": {
        "id": "VRilH_d8j51Y"
      }
    },
    {
      "cell_type": "code",
      "source": [
        "dataset.info()"
      ],
      "metadata": {
        "colab": {
          "base_uri": "https://localhost:8080/"
        },
        "id": "big8eP51mNq-",
        "outputId": "d1bbfcdb-c912-4251-e56e-fd1fd0afa613"
      },
      "execution_count": null,
      "outputs": [
        {
          "output_type": "stream",
          "name": "stdout",
          "text": [
            "<class 'pandas.core.frame.DataFrame'>\n",
            "RangeIndex: 5306 entries, 0 to 5305\n",
            "Data columns (total 15 columns):\n",
            " #   Column              Non-Null Count  Dtype  \n",
            "---  ------              --------------  -----  \n",
            " 0   Date                5306 non-null   object \n",
            " 1   Symbol              5306 non-null   object \n",
            " 2   Series              5306 non-null   object \n",
            " 3   Prev Close          5306 non-null   float64\n",
            " 4   Open                5306 non-null   float64\n",
            " 5   High                5306 non-null   float64\n",
            " 6   Low                 5306 non-null   float64\n",
            " 7   Last                5306 non-null   float64\n",
            " 8   Close               5306 non-null   float64\n",
            " 9   VWAP                5306 non-null   float64\n",
            " 10  Volume              5306 non-null   int64  \n",
            " 11  Turnover            5306 non-null   float64\n",
            " 12  Trades              2456 non-null   float64\n",
            " 13  Deliverable Volume  4797 non-null   float64\n",
            " 14  %Deliverble         4797 non-null   float64\n",
            "dtypes: float64(11), int64(1), object(3)\n",
            "memory usage: 621.9+ KB\n"
          ]
        }
      ]
    },
    {
      "cell_type": "code",
      "source": [
        "X = dataset.iloc[:, [3,9]].values\n",
        "X"
      ],
      "metadata": {
        "colab": {
          "base_uri": "https://localhost:8080/"
        },
        "id": "m3OfUf3Jj6EL",
        "outputId": "b083296e-dabb-4912-fdec-56f0b6d54291"
      },
      "execution_count": null,
      "outputs": [
        {
          "output_type": "execute_result",
          "data": {
            "text/plain": [
              "array([[ 271.75,  293.5 ],\n",
              "       [ 293.5 ,  303.62],\n",
              "       [ 304.05,  294.53],\n",
              "       ...,\n",
              "       [2518.4 , 2574.21],\n",
              "       [2577.  , 2569.65],\n",
              "       [2538.85, 2445.94]])"
            ]
          },
          "metadata": {},
          "execution_count": 4
        }
      ]
    },
    {
      "cell_type": "markdown",
      "metadata": {
        "id": "czYMlG7cNBsu"
      },
      "source": [
        "## Using the dendrogram to find the optimal number of clusters"
      ]
    },
    {
      "cell_type": "code",
      "metadata": {
        "id": "RDQODpAFNILO",
        "colab": {
          "base_uri": "https://localhost:8080/",
          "height": 298
        },
        "outputId": "bf5b9622-b7d4-41e1-b151-bf7ee35201de"
      },
      "source": [
        "import scipy.cluster.hierarchy as sch\n",
        "dendrogram = sch.dendrogram(sch.linkage(X, method = 'ward'))\n",
        "plt.title('Dendrogram')\n",
        "plt.xlabel('closed + previously closed')\n",
        "plt.ylabel('Euclidean distances')\n",
        "plt.show()"
      ],
      "execution_count": null,
      "outputs": [
        {
          "output_type": "display_data",
          "data": {
            "text/plain": [
              "<Figure size 432x288 with 1 Axes>"
            ],
            "image/png": "[encoded data removed]"
          },
          "metadata": {
            "needs_background": "light"
          }
        }
      ]
    },
    {
      "cell_type": "markdown",
      "metadata": {
        "id": "KDbXbo9INLF6"
      },
      "source": [
        "## Training the Hierarchical Clustering model on the dataset"
      ]
    },
    {
      "cell_type": "code",
      "metadata": {
        "id": "IoH3zs2KNSw6"
      },
      "source": [
        "from sklearn.cluster import AgglomerativeClustering\n",
        "hc = AgglomerativeClustering(n_clusters = 3, affinity = 'euclidean', linkage = 'single')\n",
        "y_hc = hc.fit_predict(X)"
      ],
      "execution_count": null,
      "outputs": []
    },
    {
      "cell_type": "markdown",
      "metadata": {
        "id": "X-SYG7l9NVmU"
      },
      "source": [
        "## Visualising the clusters"
      ]
    },
    {
      "cell_type": "code",
      "metadata": {
        "id": "-91tDJrnNY2p",
        "colab": {
          "base_uri": "https://localhost:8080/",
          "height": 295
        },
        "outputId": "051a1bbb-738a-48ea-c4ee-ba326ab83d9d"
      },
      "source": [
        "plt.scatter(X[y_hc == 0, 0], X[y_hc == 0, 1], s = 100, c = 'red', label = 'Cluster 1')\n",
        "plt.scatter(X[y_hc == 1, 0], X[y_hc == 1, 1], s = 100, c = 'blue', label = 'Cluster 2')\n",
        "plt.scatter(X[y_hc == 2, 0], X[y_hc == 2, 1], s = 100, c = 'green', label = 'Cluster 3')\n",
        "plt.title('Clusters of customers')\n",
        "plt.xlabel('closed')\n",
        "plt.ylabel('Previously closed')\n",
        "plt.legend()\n",
        "plt.show()"
      ],
      "execution_count": null,
      "outputs": [
        {
          "output_type": "display_data",
          "data": {
            "text/plain": [
              "<Figure size 432x288 with 1 Axes>"
            ],
            "image/png": "[encoded data removed]"
          },
          "metadata": {
            "needs_background": "light"
          }
        }
      ]
    },
    {
      "cell_type": "markdown",
      "source": [
        "Extremly skewed data hence no proper clusters are shown\n"
      ],
      "metadata": {
        "id": "NK1zZ-1flhCn"
      }
    }
  ]
}