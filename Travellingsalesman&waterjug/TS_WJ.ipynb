{
  "nbformat": 4,
  "nbformat_minor": 0,
  "metadata": {
    "colab": {
      "provenance": [],
      "authorship_tag": "ABX9TyMXaYeav9aNMCz1UPcPUSlp",
      "include_colab_link": true
    },
    "kernelspec": {
      "name": "python3",
      "display_name": "Python 3"
    },
    "language_info": {
      "name": "python"
    }
  },
  "cells": [
    {
      "cell_type": "markdown",
      "metadata": {
        "id": "view-in-github",
        "colab_type": "text"
      },
      "source": [
        "<a href=\"https://colab.research.google.com/github/AashRoxx/Data_science_projects/blob/main/Travellingsalesman%26waterjug/TS_WJ.ipynb\" target=\"_parent\"><img src=\"https://colab.research.google.com/assets/colab-badge.svg\" alt=\"Open In Colab\"/></a>"
      ]
    },
    {
      "cell_type": "markdown",
      "source": [
        "#Travelling Salesman"
      ],
      "metadata": {
        "id": "-0p-KzdN5VXD"
      }
    },
    {
      "cell_type": "code",
      "source": [
        "from sys import maxsize\n",
        "from itertools import permutations\n",
        "V = 4\n",
        "\n",
        "def travellingSalesmanProblem(graph, s):\n",
        "\n",
        "\tvertex = []\n",
        "\tfor i in range(V):\n",
        "\t\tif i != s:\n",
        "\t\t\tvertex.append(i)\n",
        "\n",
        "\tmin_path = maxsize\n",
        "\tnext_permutation=permutations(vertex)\n",
        "\tfor i in next_permutation:\n",
        "\n",
        "\t\tcurrent_pathweight = 0\n",
        "\n",
        "\t\tk = s\n",
        "\t\tfor j in i:\n",
        "\t\t\tcurrent_pathweight += graph[k][j]\n",
        "\t\t\tk = j\n",
        "\t\tcurrent_pathweight += graph[k][s]\n",
        "\n",
        "\t\tmin_path = min(min_path, current_pathweight)\n",
        "\t\t\n",
        "\treturn min_path\n",
        "\n",
        "\n",
        "if __name__ == \"__main__\":\n",
        "\n",
        "\tgraph = [[0, 10, 15, 20], [10, 0, 35, 25],\n",
        "\t\t\t[15, 35, 0, 30], [20, 25, 30, 0]]\n",
        "\ts = 0\n",
        "\tprint(travellingSalesmanProblem(graph, s))\n"
      ],
      "metadata": {
        "colab": {
          "base_uri": "https://localhost:8080/"
        },
        "id": "6JQpNnn85b-E",
        "outputId": "fadb7345-e4b1-46db-8b68-88010fb85fce"
      },
      "execution_count": null,
      "outputs": [
        {
          "output_type": "stream",
          "name": "stdout",
          "text": [
            "80\n"
          ]
        }
      ]
    },
    {
      "cell_type": "markdown",
      "source": [
        "#Water Jug Problem"
      ],
      "metadata": {
        "id": "r-u36i9X5wYL"
      }
    },
    {
      "cell_type": "code",
      "source": [
        "from collections import defaultdict\n",
        "\n",
        "jug1, jug2, aim = 4, 3, 2\n",
        "\n",
        "visited = defaultdict(lambda: False)\n",
        "\n",
        "def waterJugSolver(amt1, amt2):\n",
        "\n",
        "\tif (amt1 == aim and amt2 == 0) or (amt2 == aim and amt1 == 0):\n",
        "\t\tprint(amt1, amt2)\n",
        "\t\treturn True\n",
        "\n",
        "\tif visited[(amt1, amt2)] == False:\n",
        "\t\tprint(amt1, amt2)\n",
        "\t\n",
        "\t\tvisited[(amt1, amt2)] = True\n",
        "\t\n",
        "\t\treturn (waterJugSolver(0, amt2) or\n",
        "\t\t\t\twaterJugSolver(amt1, 0) or\n",
        "\t\t\t\twaterJugSolver(jug1, amt2) or\n",
        "\t\t\t\twaterJugSolver(amt1, jug2) or\n",
        "\t\t\t\twaterJugSolver(amt1 + min(amt2, (jug1-amt1)),\n",
        "\t\t\t\tamt2 - min(amt2, (jug1-amt1))) or\n",
        "\t\t\t\twaterJugSolver(amt1 - min(amt1, (jug2-amt2)),\n",
        "\t\t\t\tamt2 + min(amt1, (jug2-amt2))))\n",
        "\t\n",
        "\telse:\n",
        "\t\treturn False\n",
        "\n",
        "print(\"Steps: \")\n",
        "\n",
        "waterJugSolver(0, 0)\n"
      ],
      "metadata": {
        "colab": {
          "base_uri": "https://localhost:8080/"
        },
        "id": "30IpHq7J6k1E",
        "outputId": "a90c43f3-9cf4-4dcb-98c6-6b627a1e702c"
      },
      "execution_count": null,
      "outputs": [
        {
          "output_type": "stream",
          "name": "stdout",
          "text": [
            "Steps: \n",
            "0 0\n",
            "4 0\n",
            "4 3\n",
            "0 3\n",
            "3 0\n",
            "3 3\n",
            "4 2\n",
            "0 2\n"
          ]
        },
        {
          "output_type": "execute_result",
          "data": {
            "text/plain": [
              "True"
            ]
          },
          "metadata": {},
          "execution_count": 3
        }
      ]
    }
  ]
}