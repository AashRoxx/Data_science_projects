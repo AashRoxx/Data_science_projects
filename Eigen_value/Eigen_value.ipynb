{
  "nbformat": 4,
  "nbformat_minor": 0,
  "metadata": {
    "colab": {
      "provenance": [],
      "include_colab_link": true
    },
    "kernelspec": {
      "name": "python3",
      "display_name": "Python 3"
    },
    "language_info": {
      "name": "python"
    }
  },
  "cells": [
    {
      "cell_type": "markdown",
      "metadata": {
        "id": "view-in-github",
        "colab_type": "text"
      },
      "source": [
        "<a href=\"https://colab.research.google.com/github/AashRoxx/Data_science_projects/blob/main/Eigen_value/Eigen_value.ipynb\" target=\"_parent\"><img src=\"https://colab.research.google.com/assets/colab-badge.svg\" alt=\"Open In Colab\"/></a>"
      ]
    },
    {
      "cell_type": "code",
      "execution_count": null,
      "metadata": {
        "id": "YXsnyPS0Jevz"
      },
      "outputs": [],
      "source": [
        "# Exp1: To evaluate covariance matrix, find eigen values, and evaluate eigen vectors"
      ]
    },
    {
      "cell_type": "code",
      "source": [
        "import numpy as np"
      ],
      "metadata": {
        "id": "CFmKiJLlJ6ve"
      },
      "execution_count": null,
      "outputs": []
    },
    {
      "cell_type": "code",
      "source": [
        "A = [45, 37, 42, 35, 39]\n",
        "B = [38, 31, 26, 28, 33]\n",
        "C = [10, 15, 17, 21, 12]"
      ],
      "metadata": {
        "id": "DwzwexMEKVmj"
      },
      "execution_count": null,
      "outputs": []
    },
    {
      "cell_type": "code",
      "source": [
        "data = np.array([A,B,C])"
      ],
      "metadata": {
        "id": "C14vjGY6LCWA"
      },
      "execution_count": null,
      "outputs": []
    },
    {
      "cell_type": "code",
      "source": [
        "data"
      ],
      "metadata": {
        "colab": {
          "base_uri": "https://localhost:8080/"
        },
        "id": "yvGIX9mFLL5A",
        "outputId": "0620fd48-4212-4e5c-e884-0f52ae8f5641"
      },
      "execution_count": null,
      "outputs": [
        {
          "output_type": "execute_result",
          "data": {
            "text/plain": [
              "array([[45, 37, 42, 35, 39],\n",
              "       [38, 31, 26, 28, 33],\n",
              "       [10, 15, 17, 21, 12]])"
            ]
          },
          "metadata": {},
          "execution_count": 5
        }
      ]
    },
    {
      "cell_type": "code",
      "source": [
        "covMatrix = np.cov(data,bias= True)"
      ],
      "metadata": {
        "id": "UH-ZNPLSLRe9"
      },
      "execution_count": null,
      "outputs": []
    },
    {
      "cell_type": "code",
      "source": [
        "print (covMatrix)"
      ],
      "metadata": {
        "colab": {
          "base_uri": "https://localhost:8080/"
        },
        "id": "5ZnjXP3MLnI9",
        "outputId": "027b4e2b-731a-4b1e-ade4-c36216955544"
      },
      "execution_count": null,
      "outputs": [
        {
          "output_type": "stream",
          "name": "stdout",
          "text": [
            "[[ 12.64   7.68  -9.6 ]\n",
            " [  7.68  17.36 -13.8 ]\n",
            " [ -9.6  -13.8   14.8 ]]\n"
          ]
        }
      ]
    },
    {
      "cell_type": "code",
      "source": [
        "covMatrix = np.cov(data,bias= False)"
      ],
      "metadata": {
        "id": "Lw95cym5L2JG"
      },
      "execution_count": null,
      "outputs": []
    },
    {
      "cell_type": "code",
      "source": [
        "print (covMatrix)"
      ],
      "metadata": {
        "colab": {
          "base_uri": "https://localhost:8080/"
        },
        "id": "mVZ0IJXcL9s_",
        "outputId": "d037f3ea-85ab-4c75-8cf6-ab65a2293530"
      },
      "execution_count": null,
      "outputs": [
        {
          "output_type": "stream",
          "name": "stdout",
          "text": [
            "[[ 15.8    9.6  -12.  ]\n",
            " [  9.6   21.7  -17.25]\n",
            " [-12.   -17.25  18.5 ]]\n"
          ]
        }
      ]
    },
    {
      "cell_type": "code",
      "source": [
        "import seaborn as sn"
      ],
      "metadata": {
        "id": "hvuHolU1M1r-"
      },
      "execution_count": null,
      "outputs": []
    },
    {
      "cell_type": "code",
      "source": [
        "import matplotlib.pyplot as plt\n"
      ],
      "metadata": {
        "id": "A0Xurd5QNFCe"
      },
      "execution_count": null,
      "outputs": []
    },
    {
      "cell_type": "code",
      "source": [
        "covMatrix = np.cov(data,bias= True)"
      ],
      "metadata": {
        "id": "gmk9l0JMNLCB"
      },
      "execution_count": null,
      "outputs": []
    },
    {
      "cell_type": "code",
      "source": [
        "sn.heatmap(covMatrix, annot= True, fmt= 'g', vmin=0, vmax=2)"
      ],
      "metadata": {
        "colab": {
          "base_uri": "https://localhost:8080/",
          "height": 287
        },
        "id": "vnaprNm1NS6L",
        "outputId": "5f159cb7-f895-4332-c7cb-5ca7a8d05011"
      },
      "execution_count": null,
      "outputs": [
        {
          "output_type": "execute_result",
          "data": {
            "text/plain": [
              "<matplotlib.axes._subplots.AxesSubplot at 0x7fe22f5f9790>"
            ]
          },
          "metadata": {},
          "execution_count": 32
        },
        {
          "output_type": "display_data",
          "data": {
            "text/plain": [
              "<Figure size 432x288 with 2 Axes>"
            ],
            "image/png": "[encoded data removed]"
          },
          "metadata": {
            "needs_background": "light"
          }
        }
      ]
    },
    {
      "cell_type": "code",
      "source": [
        "sn.heatmap(covMatrix, annot= True, fmt= 'f', vmin=0, vmax=2)"
      ],
      "metadata": {
        "colab": {
          "base_uri": "https://localhost:8080/",
          "height": 287
        },
        "id": "YjvhazA3XgQc",
        "outputId": "10f41f98-e54d-4a3d-bf21-d0e2b087bec8"
      },
      "execution_count": null,
      "outputs": [
        {
          "output_type": "execute_result",
          "data": {
            "text/plain": [
              "<matplotlib.axes._subplots.AxesSubplot at 0x7fe22c355f90>"
            ]
          },
          "metadata": {},
          "execution_count": 33
        },
        {
          "output_type": "display_data",
          "data": {
            "text/plain": [
              "<Figure size 432x288 with 2 Axes>"
            ],
            "image/png": "[encoded data removed]"
          },
          "metadata": {
            "needs_background": "light"
          }
        }
      ]
    },
    {
      "cell_type": "code",
      "source": [
        "covMatrix = np.cov(data,bias= False)"
      ],
      "metadata": {
        "id": "D5oGChDlOJ7D"
      },
      "execution_count": null,
      "outputs": []
    },
    {
      "cell_type": "code",
      "source": [
        "sn.heatmap(covMatrix, annot= True, fmt= 'g')"
      ],
      "metadata": {
        "colab": {
          "base_uri": "https://localhost:8080/",
          "height": 283
        },
        "id": "MfmR2t7NON4I",
        "outputId": "394033ed-746f-4de8-8628-47ac9430a1ca"
      },
      "execution_count": null,
      "outputs": [
        {
          "output_type": "execute_result",
          "data": {
            "text/plain": [
              "<matplotlib.axes._subplots.AxesSubplot at 0x7fe22c165b50>"
            ]
          },
          "metadata": {},
          "execution_count": 35
        },
        {
          "output_type": "display_data",
          "data": {
            "text/plain": [
              "<Figure size 432x288 with 2 Axes>"
            ],
            "image/png": "[encoded data removed]"
          },
          "metadata": {
            "needs_background": "light"
          }
        }
      ]
    },
    {
      "cell_type": "code",
      "source": [
        "# Eigen Values and Eigen Vector"
      ],
      "metadata": {
        "id": "FQ8gFEslOhvi"
      },
      "execution_count": null,
      "outputs": []
    },
    {
      "cell_type": "code",
      "source": [
        "from numpy.linalg import eig"
      ],
      "metadata": {
        "id": "eLafZaHVO2dJ"
      },
      "execution_count": null,
      "outputs": []
    },
    {
      "cell_type": "code",
      "source": [
        "a =np.array([[0, 2], [2 ,3]])"
      ],
      "metadata": {
        "id": "dAvXSuHuPFzF"
      },
      "execution_count": null,
      "outputs": []
    },
    {
      "cell_type": "code",
      "source": [
        "w, v= eig(a)"
      ],
      "metadata": {
        "id": "__eC4ZqyPWJK"
      },
      "execution_count": null,
      "outputs": []
    },
    {
      "cell_type": "code",
      "source": [
        "print ('E-value:', w)\n",
        "print ('E-vector:', v)"
      ],
      "metadata": {
        "colab": {
          "base_uri": "https://localhost:8080/"
        },
        "id": "SHZLP7kbPb4J",
        "outputId": "7eb5b184-ede0-4231-feee-73859990bfce"
      },
      "execution_count": null,
      "outputs": [
        {
          "output_type": "stream",
          "name": "stdout",
          "text": [
            "E-value: [-1.  4.]\n",
            "E-vector: [[-0.89442719 -0.4472136 ]\n",
            " [ 0.4472136  -0.89442719]]\n"
          ]
        }
      ]
    },
    {
      "cell_type": "code",
      "source": [
        "a =np.array([[0, 2, 3], [2 ,3, 5], [3, 5, 6]])"
      ],
      "metadata": {
        "id": "8kDgwmW3P0Iy"
      },
      "execution_count": null,
      "outputs": []
    },
    {
      "cell_type": "code",
      "source": [
        "w, v= eig(a)"
      ],
      "metadata": {
        "id": "N8EiL96BP7Dm"
      },
      "execution_count": null,
      "outputs": []
    },
    {
      "cell_type": "code",
      "source": [
        "print ('E-value:', w)\n",
        "print ('E-vector:', v)"
      ],
      "metadata": {
        "colab": {
          "base_uri": "https://localhost:8080/"
        },
        "id": "dKi4p8FgP8GX",
        "outputId": "e597c308-446a-41f6-cba8-680141b5d810"
      },
      "execution_count": null,
      "outputs": [
        {
          "output_type": "stream",
          "name": "stdout",
          "text": [
            "E-value: [10.90897874 -1.24781764 -0.6611611 ]\n",
            "E-vector: [[ 0.31351175  0.90082516  0.30037379]\n",
            " [ 0.56280048  0.07850569 -0.82285629]\n",
            " [ 0.7648307  -0.42702563  0.48237237]]\n"
          ]
        }
      ]
    }
  ]
}